{
 "cells": [
  {
   "cell_type": "markdown",
   "metadata": {},
   "source": [
    "# HW2 - Q2"
   ]
  },
  {
   "cell_type": "code",
   "execution_count": 1,
   "metadata": {},
   "outputs": [],
   "source": [
    "import numpy as np\n",
    "import pandas as pd\n",
    "from sklearn.decomposition import PCA\n",
    "from sklearn.model_selection import train_test_split\n",
    "from sklearn.svm import SVC\n",
    "from sklearn.metrics import accuracy_score\n",
    "import matplotlib.pyplot as plt\n",
    "from sklearn.model_selection import KFold\n",
    "from sklearn.model_selection import cross_val_score\n",
    "\n"
   ]
  },
  {
   "cell_type": "code",
   "execution_count": 2,
   "metadata": {},
   "outputs": [
    {
     "name": "stdout",
     "output_type": "stream",
     "text": [
      "<class 'pandas.core.frame.DataFrame'>\n",
      "RangeIndex: 2000 entries, 0 to 1999\n",
      "Data columns (total 51 columns):\n",
      " #   Column  Non-Null Count  Dtype  \n",
      "---  ------  --------------  -----  \n",
      " 0   f0      2000 non-null   float64\n",
      " 1   f1      2000 non-null   float64\n",
      " 2   f2      2000 non-null   float64\n",
      " 3   f3      2000 non-null   float64\n",
      " 4   f4      2000 non-null   float64\n",
      " 5   f5      2000 non-null   float64\n",
      " 6   f6      2000 non-null   float64\n",
      " 7   f7      2000 non-null   float64\n",
      " 8   f8      2000 non-null   float64\n",
      " 9   f9      2000 non-null   float64\n",
      " 10  f10     2000 non-null   float64\n",
      " 11  f11     2000 non-null   float64\n",
      " 12  f12     2000 non-null   float64\n",
      " 13  f13     2000 non-null   float64\n",
      " 14  f14     2000 non-null   float64\n",
      " 15  f15     2000 non-null   float64\n",
      " 16  f16     2000 non-null   float64\n",
      " 17  f17     2000 non-null   float64\n",
      " 18  f18     2000 non-null   float64\n",
      " 19  f19     2000 non-null   float64\n",
      " 20  f20     2000 non-null   float64\n",
      " 21  f21     2000 non-null   float64\n",
      " 22  f22     2000 non-null   float64\n",
      " 23  f23     2000 non-null   float64\n",
      " 24  f24     2000 non-null   float64\n",
      " 25  f25     2000 non-null   float64\n",
      " 26  f26     2000 non-null   float64\n",
      " 27  f27     2000 non-null   float64\n",
      " 28  f28     2000 non-null   float64\n",
      " 29  f29     2000 non-null   float64\n",
      " 30  f30     2000 non-null   float64\n",
      " 31  f31     2000 non-null   float64\n",
      " 32  f32     2000 non-null   float64\n",
      " 33  f33     2000 non-null   float64\n",
      " 34  f34     2000 non-null   float64\n",
      " 35  f35     2000 non-null   float64\n",
      " 36  f36     2000 non-null   float64\n",
      " 37  f37     2000 non-null   float64\n",
      " 38  f38     2000 non-null   float64\n",
      " 39  f39     2000 non-null   float64\n",
      " 40  f40     2000 non-null   float64\n",
      " 41  f41     2000 non-null   float64\n",
      " 42  f42     2000 non-null   float64\n",
      " 43  f43     2000 non-null   float64\n",
      " 44  f44     2000 non-null   float64\n",
      " 45  f45     2000 non-null   float64\n",
      " 46  f46     2000 non-null   float64\n",
      " 47  f47     2000 non-null   float64\n",
      " 48  f48     2000 non-null   float64\n",
      " 49  f49     2000 non-null   float64\n",
      " 50  label   2000 non-null   int64  \n",
      "dtypes: float64(50), int64(1)\n",
      "memory usage: 797.0 KB\n"
     ]
    }
   ],
   "source": [
    "data2 = pd.read_csv(\"data2.csv\")\n",
    "data2.info()"
   ]
  },
  {
   "cell_type": "code",
   "execution_count": 3,
   "metadata": {},
   "outputs": [
    {
     "data": {
      "text/plain": [
       "f0       0\n",
       "f1       0\n",
       "f2       0\n",
       "f3       0\n",
       "f4       0\n",
       "f5       0\n",
       "f6       0\n",
       "f7       0\n",
       "f8       0\n",
       "f9       0\n",
       "f10      0\n",
       "f11      0\n",
       "f12      0\n",
       "f13      0\n",
       "f14      0\n",
       "f15      0\n",
       "f16      0\n",
       "f17      0\n",
       "f18      0\n",
       "f19      0\n",
       "f20      0\n",
       "f21      0\n",
       "f22      0\n",
       "f23      0\n",
       "f24      0\n",
       "f25      0\n",
       "f26      0\n",
       "f27      0\n",
       "f28      0\n",
       "f29      0\n",
       "f30      0\n",
       "f31      0\n",
       "f32      0\n",
       "f33      0\n",
       "f34      0\n",
       "f35      0\n",
       "f36      0\n",
       "f37      0\n",
       "f38      0\n",
       "f39      0\n",
       "f40      0\n",
       "f41      0\n",
       "f42      0\n",
       "f43      0\n",
       "f44      0\n",
       "f45      0\n",
       "f46      0\n",
       "f47      0\n",
       "f48      0\n",
       "f49      0\n",
       "label    0\n",
       "dtype: int64"
      ]
     },
     "execution_count": 3,
     "metadata": {},
     "output_type": "execute_result"
    }
   ],
   "source": [
    "data2.isna().sum()"
   ]
  },
  {
   "cell_type": "code",
   "execution_count": 5,
   "metadata": {},
   "outputs": [],
   "source": [
    "X = data2.drop([\"label\"],axis=1)\n",
    "y = data2[\"label\"]"
   ]
  },
  {
   "cell_type": "code",
   "execution_count": 6,
   "metadata": {},
   "outputs": [
    {
     "name": "stdout",
     "output_type": "stream",
     "text": [
      "SVM with pca n = 20 accuracy 5-fold: 1.0\n",
      "SVM with pca n = 10 accuracy 5-fold: 1.0\n"
     ]
    }
   ],
   "source": [
    "acc10 = []\n",
    "acc20 = []\n",
    "n_splits = 5\n",
    "kf = KFold(n_splits=n_splits)\n",
    "for i, (train_index, test_index) in enumerate(kf.split(X)):\n",
    "    \n",
    "    X_train, X_test, y_train, y_test = X.iloc[train_index],X.iloc[test_index],y.iloc[train_index],y.iloc[test_index]\n",
    "\n",
    "    #Normalization\n",
    "    X_train_mean = X_train.mean()\n",
    "    X_train_std = X_train.std()\n",
    "    X_train = (X_train - X_train_mean) / X_train_std\n",
    "    X_test = (X_test - X_train_mean) / X_train_std\n",
    "\n",
    "    pca1 = PCA(n_components=20)\n",
    "    pca1.fit(X_train)\n",
    "\n",
    "    pca2 = PCA(n_components=10)\n",
    "    pca2.fit(X_train)\n",
    "\n",
    "    pca1_train = pca1.transform(X_train)\n",
    "    pca1_test = pca1.transform(X_test)\n",
    "    \n",
    "    pca2_train = pca2.transform(X_train)\n",
    "    pca2_test = pca2.transform(X_test)  \n",
    "\n",
    "    clf = SVC()\n",
    "    clf.fit(pca1_train,y_train)\n",
    "    y_pred_svm1 = clf.predict(pca1_test)\n",
    "    acc1 = accuracy_score(y_pred_svm1,y_test)\n",
    "    acc10.append(acc1)\n",
    "\n",
    "    clf = SVC()\n",
    "    clf.fit(pca2_train,y_train)\n",
    "    y_pred_svm2 = clf.predict(pca2_test)\n",
    "    acc2 = accuracy_score(y_pred_svm2,y_test)\n",
    "    acc20.append(acc2)\n",
    "\n",
    "print(f\"SVM with pca n = 20 accuracy {n_splits}-fold: {np.mean(acc10)}\")\n",
    "print(f\"SVM with pca n = 10 accuracy {n_splits}-fold: {np.mean(acc20)}\")\n",
    "\n",
    "        \n"
   ]
  },
  {
   "cell_type": "code",
   "execution_count": 8,
   "metadata": {},
   "outputs": [
    {
     "data": {
      "image/png": "[encoded data removed]",
      "text/plain": [
       "<Figure size 640x480 with 1 Axes>"
      ]
     },
     "metadata": {},
     "output_type": "display_data"
    }
   ],
   "source": [
    "accs = []\n",
    "n_splits = 5\n",
    "kf = KFold(n_splits=n_splits)\n",
    "for n_components in range(1,15):\n",
    "    acc = []\n",
    "    for i, (train_index, test_index) in enumerate(kf.split(X)):\n",
    "        \n",
    "        X_train, X_test, y_train, y_test = X.iloc[train_index],X.iloc[test_index],y.iloc[train_index],y.iloc[test_index]\n",
    "\n",
    "        #Normalization\n",
    "        X_train_mean = X_train.mean()\n",
    "        X_train_std = X_train.std()\n",
    "        X_train = (X_train - X_train_mean) / X_train_std\n",
    "        X_test = (X_test - X_train_mean) / X_train_std\n",
    "\n",
    "        pca1 = PCA(n_components=n_components)\n",
    "        pca1.fit(X_train)\n",
    "\n",
    "        pca1_train = pca1.transform(X_train)\n",
    "        pca1_test = pca1.transform(X_test)\n",
    "\n",
    "        clf = SVC()\n",
    "        clf.fit(pca1_train,y_train)\n",
    "        y_pred_svm1 = clf.predict(pca1_test)\n",
    "        acc.append(accuracy_score(y_pred_svm1,y_test))\n",
    "    accs.append(np.mean(acc))\n",
    "\n",
    "plt.figure()\n",
    "plt.plot(range(1,15),accs,'o-')\n",
    "plt.title(\"SVM accuracys across different pca n_components with 5-fold\")\n",
    "plt.xlabel(\"PCA n_components\")\n",
    "plt.ylabel(\"accuracy\")\n",
    "plt.show()\n"
   ]
  }
 ],
 "metadata": {
  "kernelspec": {
   "display_name": "Python 3",
   "language": "python",
   "name": "python3"
  },
  "language_info": {
   "codemirror_mode": {
    "name": "ipython",
    "version": 3
   },
   "file_extension": ".py",
   "mimetype": "text/x-python",
   "name": "python",
   "nbconvert_exporter": "python",
   "pygments_lexer": "ipython3",
   "version": "3.11.0"
  }
 },
 "nbformat": 4,
 "nbformat_minor": 2
}
